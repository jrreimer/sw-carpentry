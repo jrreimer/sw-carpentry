{
 "cells": [
  {
   "cell_type": "code",
   "execution_count": null,
   "metadata": {
    "collapsed": true
   },
   "outputs": [],
   "source": [
    "\"\"\"\n",
    "While taking a class on the culture of China, you have learned about the Chinese zodiac in which people fall into 1 of 12 categories, depending on the year of their birth. The categories, numbered 0 to 11, correspond to the following animals:\n",
    "\n",
    "(0) monkey\n",
    "(1) rooster\n",
    "(2) dog\n",
    "(3) pig\n",
    "(4) rat\n",
    "(5) ox\n",
    "(6) tiger\n",
    "(7) rabbit\n",
    "(8) dragon\n",
    "(9) snake\n",
    "(10) horse\n",
    "(11) goat\n",
    "\n",
    "Those who believe in this zodiac think that the year of a person's birth influences both their personality and fortune in life.\n",
    "\n",
    "Your task is to build a program that will ask a user for their birth year and tell them their zodiac sign.  If the user does not enter a number that can be interpreted as a year then an error message must be shown and the user given another chance.  If the user types \"quit\" then the program halts.\n",
    "\n",
    "For extra credit: save each year that is input to a file and print a chart showing how many of each type or animal have been returned.\n",
    "\n",
    "To find your zodiac sign, divide the year of your birth by 12. The remainder then determines your sign. For example: The remainder when we divide 1985 by 12, is 5; therefore, a person born in 1985 is an ox according to the Chinese zodiac.\n",
    "\"\"\""
   ]
  },
  {
   "cell_type": "code",
   "execution_count": null,
   "metadata": {
    "collapsed": false
   },
   "outputs": [
    {
     "name": "stdout",
     "output_type": "stream",
     "text": [
      "What year were you born? 1234\n",
      "Your Chinese Zodiac Animal is a Horse\n",
      "\n",
      "<class 'int'>\n",
      "What year were you born? asdfg\n",
      "You did not provide a year in the form of an integer \n",
      "\n",
      "<class 'str'>\n"
     ]
    }
   ],
   "source": [
    "# There should be a description here of what is in this code\n",
    "\n",
    "# ZodiacSetup will all the opening, loading, and closing of files/data. \n",
    "# It will return ZodiacListTemp\n",
    "def ZodiacSetup():  \n",
    "    # Open the zodiac description file\n",
    "    ZodiacText = open('zodiacDescriptions.txt', 'r')\n",
    "    \n",
    "    # Read the file. Make a list with each line of the file as a list item.\n",
    "    ZodiacListTemp= []\n",
    "    for animal in ZodiacText:\n",
    "        if animal != '\\n':\n",
    "            ZodiacListTemp.append(animal)\n",
    "        \n",
    "    # Close the file as soon as we're done with it\n",
    "    ZodiacText.close()\n",
    "    \n",
    "    return ZodiacListTemp  # return ZodiacList from the function\n",
    "\n",
    "\n",
    "# ZodiacCalculation will collect a birth year and determine the Chinese zodiac animal and then display it.  \n",
    "# It will return \n",
    "def ZodiacCalculation():\n",
    "    \n",
    "    birthYear = input(\"What year were you born? \")  \n",
    "    \n",
    "    # Ask the user for input\n",
    "    try:\n",
    "        birthYear = int(birthYear)    \n",
    "        # Do some fancy figuring stuff out (little bit of math)\n",
    "        #  % is the \"modulus\" operator; gives remainder\n",
    "        # John lied to us and gave us the wrong list\n",
    "        # to fix this, we need to offset birthyear by 4\n",
    "        ZodiacIndex = (birthYear - 4) % 12      \n",
    "\n",
    "        # Tell user the result\n",
    "        print(\"Your Chinese Zodiac Animal is a\", ZodiacList[ZodiacIndex])       \n",
    "        \n",
    "    except ValueError:\n",
    "        print(\"You did not provide a year in the form of an integer\", '\\n')\n",
    "        \n",
    "    print(type(birthYear))\n",
    "    return birthYear         \n",
    "    \n",
    "    \n",
    "# Repeat \n",
    "ZodiacList = ZodiacSetup()\n",
    "\n",
    "birthYear = 0\n",
    "while type(birthYear) is int:\n",
    "    birthyear = ZodiacCalculation()\n",
    "       \n",
    "\n"
   ]
  }
 ],
 "metadata": {
  "kernelspec": {
   "display_name": "Python 3",
   "language": "python",
   "name": "python3"
  },
  "language_info": {
   "codemirror_mode": {
    "name": "ipython",
    "version": 3
   },
   "file_extension": ".py",
   "mimetype": "text/x-python",
   "name": "python",
   "nbconvert_exporter": "python",
   "pygments_lexer": "ipython3",
   "version": "3.4.3"
  }
 },
 "nbformat": 4,
 "nbformat_minor": 0
}
