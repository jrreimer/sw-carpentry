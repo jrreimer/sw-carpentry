{
 "cells": [
  {
   "cell_type": "code",
   "execution_count": null,
   "metadata": {
    "collapsed": true
   },
   "outputs": [],
   "source": [
    "\"\"\"\n",
    "While taking a class on the culture of China, you have learned about the Chinese zodiac in which people fall into 1 of 12 categories, depending on the year of their birth. The categories, numbered 0 to 11, correspond to the following animals:\n",
    "\n",
    "(0) monkey\n",
    "(1) rooster\n",
    "(2) dog\n",
    "(3) pig\n",
    "(4) rat\n",
    "(5) ox\n",
    "(6) tiger\n",
    "(7) rabbit\n",
    "(8) dragon\n",
    "(9) snake\n",
    "(10) horse\n",
    "(11) goat\n",
    "\n",
    "Those who believe in this zodiac think that the year of a person's birth influences both their personality and fortune in life.\n",
    "\n",
    "Your task is to build a program that will ask a user for their birth year and tell them their zodiac sign.  If the user does not enter a number that can be interpreted as a year then an error message must be shown and the user given another chance.  If the user types \"quit\" then the program halts.\n",
    "\n",
    "For extra credit: save each year that is input to a file and print a chart showing how many of each type or animal have been returned.\n",
    "\n",
    "To find your zodiac sign, divide the year of your birth by 12. The remainder then determines your sign. For example: The remainder when we divide 1985 by 12, is 5; therefore, a person born in 1985 is an ox according to the Chinese zodiac.\n",
    "\"\"\""
   ]
  },
  {
   "cell_type": "code",
   "execution_count": null,
   "metadata": {
    "collapsed": false
   },
   "outputs": [],
   "source": [
    "# Here we are going to plan the program\n",
    "\n",
    "# Open the zodiac description file\n",
    "ZodiacText = open('zodiacDescriptions.txt', 'r')\n",
    "# for line in ZodiacText:\n",
    "#    print(line)\n",
    "\n",
    "# Read the file. We are going to make a list with each line of the file\n",
    "# as a list item.\n",
    "ZodiacList= []\n",
    "for animal in ZodiacText:\n",
    "    if animal != '\\n':\n",
    "        ZodiacList.append(animal)\n",
    "    \n",
    "#print(ZodiacList)\n",
    "    \n",
    "\n",
    "# Ask the user for input\n",
    "# We're just going to assign a variable for the moment. Come back later.\n",
    "# birthYear = 1988\n",
    "birthYear = input(\"What year were you born? \")\n",
    "\n",
    "# Do some fancy figuring stuff out (little bit of math)\n",
    "#  % is the \"modulus\" operator; gives remainder\n",
    "# John lied to us and gave us the wrong list\n",
    "# to fix this, we need to offset birthyear by 4\n",
    "ZodiacIndex = (birthYear - 4) % 12      \n",
    "print(ZodiacIndex)\n",
    "\n",
    "# Tell user the result\n",
    "print(\"Your Chinese Zodiac Animal is a \", ZodiacList[ZodiacIndex])\n",
    "\n",
    "# Repeat\n",
    "\n",
    "# Close the file\n",
    "ZodiacText.close()"
   ]
  },
  {
   "cell_type": "code",
   "execution_count": 36,
   "metadata": {
    "collapsed": false
   },
   "outputs": [
    {
     "data": {
      "text/plain": [
       "['Rat\\n',\n",
       " 'Ox\\n',\n",
       " 'Tiger\\n',\n",
       " 'Rabbit\\n',\n",
       " 'Dragon\\n',\n",
       " 'Snake\\n',\n",
       " 'Horse\\n',\n",
       " 'Goat\\n',\n",
       " 'Monkey\\n',\n",
       " 'Rooster\\n',\n",
       " 'Dog\\n',\n",
       " 'Pig\\n']"
      ]
     },
     "execution_count": 36,
     "metadata": {},
     "output_type": "execute_result"
    }
   ],
   "source": [
    "ZodiacList"
   ]
  }
 ],
 "metadata": {
  "kernelspec": {
   "display_name": "Python 3",
   "language": "python",
   "name": "python3"
  },
  "language_info": {
   "codemirror_mode": {
    "name": "ipython",
    "version": 3
   },
   "file_extension": ".py",
   "mimetype": "text/x-python",
   "name": "python",
   "nbconvert_exporter": "python",
   "pygments_lexer": "ipython3",
   "version": "3.4.3"
  }
 },
 "nbformat": 4,
 "nbformat_minor": 0
}
